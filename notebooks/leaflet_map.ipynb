{
 "cells": [
  {
   "cell_type": "code",
   "execution_count": 1,
   "metadata": {
    "collapsed": false
   },
   "outputs": [],
   "source": [
    "from IPython.display import HTML"
   ]
  },
  {
   "cell_type": "code",
   "execution_count": 19,
   "metadata": {
    "collapsed": false
   },
   "outputs": [
    {
     "data": {
      "text/html": [
       "\n",
       "<!DOCTYPE html>\n",
       "<head>\n",
       "   <meta http-equiv=\"content-type\" content=\"text/html; charset=UTF-8\" />\n",
       "   <link rel=\"stylesheet\" href=\"//cdnjs.cloudflare.com/ajax/libs/leaflet/0.7.3/leaflet.css\" />\n",
       "   <script src=\"//cdnjs.cloudflare.com/ajax/libs/leaflet/0.7.3/leaflet.js\"></script>\n",
       "   <script src=\"//cdnjs.cloudflare.com/ajax/libs/d3/3.5.5/d3.min.js\" charset=\"utf-8\"></script>\n",
       "   <script src=\"//cdnjs.cloudflare.com/ajax/libs/queue-async/1.0.7/queue.min.js\"></script>\n",
       "\n",
       "   <style>\n",
       "\n",
       "      html, body {\n",
       "        width: 100%;\n",
       "        height: 100%;\n",
       "        margin: 0;\n",
       "        padding: 0;\n",
       "      }\n",
       "\n",
       "      .legend {\n",
       "          padding: 0px 0px;\n",
       "          font: 10px sans-serif;\n",
       "          background: white;\n",
       "          background: rgba(255,255,255,0.8);\n",
       "          box-shadow: 0 0 15px rgba(0,0,0,0.2);\n",
       "          border-radius: 5px;\n",
       "      }\n",
       "\n",
       "      .key path {\n",
       "        display: none;\n",
       "      }\n",
       "\n",
       "   </style>\n",
       "</head>\n",
       "\n",
       "<body>\n",
       "\n",
       "   <div id=\"map\" style=\"width: 960px; height: 500px\"></div>\n",
       "\n",
       "   <script>\n",
       "   \n",
       "    var map = L.map('map').setView([47.5, 19.1], 10);\n",
       "    \n",
       "    var base_tile = L.tileLayer('http://{s}.tile.openstreetmap.org/{z}/{x}/{y}.png', {\n",
       "          maxZoom: 18,\n",
       "          minZoom: 1,\n",
       "          attribution: 'Map data (c) <a href=\"http://openstreetmap.org\">OpenStreetMap</a> contributors'\n",
       "      }).addTo(map);\n",
       "    \n",
       "  \n",
       "\n",
       "\n",
       "   </script>\n",
       "</body>\n"
      ],
      "text/plain": [
       "<IPython.core.display.HTML object>"
      ]
     },
     "execution_count": 19,
     "metadata": {},
     "output_type": "execute_result"
    }
   ],
   "source": [
    "HTML('''\n",
    "<!DOCTYPE html>\n",
    "<head>\n",
    "   <meta http-equiv=\"content-type\" content=\"text/html; charset=UTF-8\" />\n",
    "   <link rel=\"stylesheet\" href=\"//cdnjs.cloudflare.com/ajax/libs/leaflet/0.7.3/leaflet.css\" />\n",
    "   <script src=\"//cdnjs.cloudflare.com/ajax/libs/leaflet/0.7.3/leaflet.js\"></script>\n",
    "   <script src=\"//cdnjs.cloudflare.com/ajax/libs/d3/3.5.5/d3.min.js\" charset=\"utf-8\"></script>\n",
    "   <script src=\"//cdnjs.cloudflare.com/ajax/libs/queue-async/1.0.7/queue.min.js\"></script>\n",
    "\n",
    "   <style>\n",
    "\n",
    "      html, body {\n",
    "        width: 100%;\n",
    "        height: 100%;\n",
    "        margin: 0;\n",
    "        padding: 0;\n",
    "      }\n",
    "\n",
    "      .legend {\n",
    "          padding: 0px 0px;\n",
    "          font: 10px sans-serif;\n",
    "          background: white;\n",
    "          background: rgba(255,255,255,0.8);\n",
    "          box-shadow: 0 0 15px rgba(0,0,0,0.2);\n",
    "          border-radius: 5px;\n",
    "      }\n",
    "\n",
    "      .key path {\n",
    "        display: none;\n",
    "      }\n",
    "\n",
    "   </style>\n",
    "</head>\n",
    "\n",
    "<body>\n",
    "\n",
    "   <div id=\"map\" style=\"width: 960px; height: 500px\"></div>\n",
    "\n",
    "   <script>\n",
    "   \n",
    "    var map = L.map('map').setView([47.5, 19.1], 10);\n",
    "    \n",
    "    var base_tile = L.tileLayer('http://{s}.tile.openstreetmap.org/{z}/{x}/{y}.png', {\n",
    "          maxZoom: 18,\n",
    "          minZoom: 1,\n",
    "          attribution: 'Map data (c) <a href=\"http://openstreetmap.org\">OpenStreetMap</a> contributors'\n",
    "      }).addTo(map);\n",
    "    \n",
    "  \n",
    "\n",
    "\n",
    "   </script>\n",
    "</body>\n",
    "''')"
   ]
  }
 ],
 "metadata": {
  "kernelspec": {
   "display_name": "Python 2",
   "language": "python",
   "name": "python2"
  },
  "language_info": {
   "codemirror_mode": {
    "name": "ipython",
    "version": 2
   },
   "file_extension": ".py",
   "mimetype": "text/x-python",
   "name": "python",
   "nbconvert_exporter": "python",
   "pygments_lexer": "ipython2",
   "version": "2.7.10"
  }
 },
 "nbformat": 4,
 "nbformat_minor": 0
}
