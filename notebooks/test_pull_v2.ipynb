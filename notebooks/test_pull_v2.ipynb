{
 "cells": [
  {
   "cell_type": "code",
   "execution_count": null,
   "metadata": {
    "collapsed": false,
    "hide_input": true,
    "hide_output": true,
    "run_control": {
     "marked": true
    },
    "scrolled": true
   },
   "outputs": [],
   "source": [
    "%%javascript\n",
    "IPython.load_extensions('hide_input_all');"
   ]
  },
  {
   "cell_type": "markdown",
   "metadata": {
    "hide_input": true,
    "hide_output": true,
    "run_control": {
     "marked": true
    }
   },
   "source": [
    "<img src=\"http://dkrib.web.elte.hu/compare/COMPARE_LOGO.jpg\" \\img>"
   ]
  },
  {
   "cell_type": "markdown",
   "metadata": {
    "hide_input": true,
    "hide_output": true,
    "run_control": {
     "marked": true
    }
   },
   "source": [
    "<div class=\"jumbotron\">\n",
    "    <center> <h1>  Here you can browse and download ready to use notebooks  </h1> </center>\n",
    "    <center>It is new, so please be patient if something does not work. </center>\n",
    "</div>"
   ]
  },
  {
   "cell_type": "code",
   "execution_count": 1,
   "metadata": {
    "collapsed": false,
    "scrolled": true
   },
   "outputs": [
    {
     "data": {
      "text/html": [
       "\n",
       "<div class=\"jumbotron\">\n",
       "\n",
       "<center> <h2>   Tree building and visualizing using BioPython-phylo package   </h2> </center>\n",
       "\n",
       "<p>\n",
       "<center> \n",
       "<a  class=\"btn btn-lg btn-info\" href=\"http://dkrib.web.elte.hu/compare/jupyter/ebola-bio-phylo-tree-building.html\" >Let mee see the notebook</a>\n",
       "\n",
       "<a class=\"btn btn-lg btn-default\" \n",
       "onclick=\"IPython.notebook.select(4); IPython.notebook.execute_cell();\"\n",
       "> Download the notebook\n",
       "</a>\n",
       "\n",
       "</center>\n",
       "</p>\n",
       "\n",
       "</div>"
      ],
      "text/plain": [
       "<IPython.core.display.HTML object>"
      ]
     },
     "metadata": {},
     "output_type": "display_data"
    }
   ],
   "source": [
    "%%HTML\n",
    "\n",
    "<div class=\"jumbotron\">\n",
    "\n",
    "<center> <h2>   Tree building and visualizing using BioPython-phylo package   </h2> </center>\n",
    "\n",
    "<p>\n",
    "<center> \n",
    "<a  class=\"btn btn-lg btn-info\" href=\"http://dkrib.web.elte.hu/compare/jupyter/ebola-bio-phylo-tree-building.html\" >Let mee see the notebook</a>\n",
    "\n",
    "<a class=\"btn btn-lg btn-default\" \n",
    "onclick=\"IPython.notebook.select(4); IPython.notebook.execute_cell();\"\n",
    "> Download the notebook\n",
    "</a>\n",
    "\n",
    "</center>\n",
    "</p>\n",
    "\n",
    "</div>"
   ]
  },
  {
   "cell_type": "code",
   "execution_count": null,
   "metadata": {
    "collapsed": false,
    "scrolled": false
   },
   "outputs": [],
   "source": [
    "import subprocess\n",
    "try:\n",
    "    subprocess.check_output('/usr.host/bin/wget http://dkrib.web.elte.hu/compare/jupyter/ebola-bio-phylo-tree-building.html',\n",
    "                   stderr=subprocess.STDOUT, shell=True)\n",
    "except subprocess.CalledProcessError:\n",
    "    print 'Error Download failed'\n",
    "else:\n",
    "    print 'Notebook Downloaded'"
   ]
  },
  {
   "cell_type": "code",
   "execution_count": 65,
   "metadata": {
    "collapsed": false,
    "scrolled": true
   },
   "outputs": [
    {
     "data": {
      "text/html": [
       "\n",
       "<div class=\"jumbotron\">\n",
       "\n",
       "<center> <h2> Tree visualizing with ETE2 python package </h2> </center>\n",
       "\n",
       "<p>\n",
       "<center>\n",
       "<a type=\"button\" class=\"btn btn-lg btn-success \" \n",
       "href=\"http://dkrib.web.elte.hu/compare/jupyter/Ebola_test_ETE2_tree_plots.html\" >Let mee see the notebook</a>\n",
       "\n",
       "<a tzpe=\"button\" class=\"btn btn-lg btn-default\" \n",
       "onclick=\"IPython.notebook.select(6); IPython.notebook.execute_cell();\"\n",
       "> Download the notebook\n",
       "</a>\n",
       "</center>\n",
       "\n",
       "</p>\n",
       "\n",
       "</div>"
      ],
      "text/plain": [
       "<IPython.core.display.HTML object>"
      ]
     },
     "metadata": {},
     "output_type": "display_data"
    }
   ],
   "source": [
    "%%HTML\n",
    "\n",
    "<div class=\"jumbotron\">\n",
    "\n",
    "<center> <h2> Tree visualizing with ETE2 python package </h2> </center>\n",
    "\n",
    "<p>\n",
    "<center>\n",
    "<a type=\"button\" class=\"btn btn-lg btn-success \" \n",
    "href=\"http://dkrib.web.elte.hu/compare/jupyter/Ebola_test_ETE2_tree_plots.html\" >Let mee see the notebook</a>\n",
    "\n",
    "<a tzpe=\"button\" class=\"btn btn-lg btn-default\" \n",
    "onclick=\"IPython.notebook.select(6); IPython.notebook.execute_cell();\"\n",
    "> Download the notebook\n",
    "</a>\n",
    "</center>\n",
    "\n",
    "</p>\n",
    "\n",
    "</div>"
   ]
  },
  {
   "cell_type": "code",
   "execution_count": null,
   "metadata": {
    "collapsed": false,
    "scrolled": true
   },
   "outputs": [],
   "source": [
    "import subprocess\n",
    "try:\n",
    "    subprocess.check_output('/usr.host/bin/wget http://dkrib.web.elte.hu/compare/jupyter/Ebola_test_ETE2_tree_plots.html',\n",
    "               stderr=subprocess.STDOUT, shell=True)\n",
    "except subprocess.CalledProcessError:\n",
    "    print 'Error Download failed'\n",
    "else:\n",
    "    print 'Notebook Downloaded'"
   ]
  },
  {
   "cell_type": "code",
   "execution_count": 66,
   "metadata": {
    "collapsed": false,
    "scrolled": true
   },
   "outputs": [
    {
     "data": {
      "text/html": [
       "\n",
       "<div class=\"jumbotron\">\n",
       "\n",
       "<center> <h2> Map drawing with matplotlib, and NetworkX and animation  </h2> </center>\n",
       "\n",
       "<p>\n",
       "<center>\n",
       "<a class=\"btn btn-lg btn-warning\" \n",
       "href=\"http://dkrib.web.elte.hu/compare/jupyter/maptree_v_0.4.html\" >Let mee see the notebook</a>\n",
       "\n",
       "<a class=\"btn btn-lg btn-default\" \n",
       "onclick=\"IPython.notebook.select(8); IPython.notebook.execute_cell();\"\n",
       "> Download the notebook\n",
       "</a>\n",
       "</center>\n",
       "</p>\n",
       "\n",
       "</div>"
      ],
      "text/plain": [
       "<IPython.core.display.HTML object>"
      ]
     },
     "metadata": {},
     "output_type": "display_data"
    }
   ],
   "source": [
    "%%HTML\n",
    "\n",
    "<div class=\"jumbotron\">\n",
    "\n",
    "<center> <h2> Map drawing with matplotlib, and NetworkX and animation  </h2> </center>\n",
    "\n",
    "<p>\n",
    "<center>\n",
    "<a class=\"btn btn-lg btn-warning\" \n",
    "href=\"http://dkrib.web.elte.hu/compare/jupyter/maptree_v_0.4.html\" >Let mee see the notebook</a>\n",
    "\n",
    "<a class=\"btn btn-lg btn-default\" \n",
    "onclick=\"IPython.notebook.select(8); IPython.notebook.execute_cell();\"\n",
    "> Download the notebook\n",
    "</a>\n",
    "</center>\n",
    "</p>\n",
    "\n",
    "</div>"
   ]
  },
  {
   "cell_type": "code",
   "execution_count": null,
   "metadata": {
    "collapsed": false,
    "hide_input": true,
    "hide_output": true,
    "run_control": {
     "marked": true
    },
    "scrolled": true
   },
   "outputs": [],
   "source": [
    "import subprocess\n",
    "try:\n",
    "    subprocess.check_output('/usr.host/bin/wget http://dkrib.web.elte.hu/compare/jupyter/maptree_v_0.4.html',\n",
    "               stderr=subprocess.STDOUT, shell=True)\n",
    "except subprocess.CalledProcessError:\n",
    "    print 'Error Download failed'\n",
    "else:\n",
    "    print 'Notebook Downloaded'"
   ]
  },
  {
   "cell_type": "code",
   "execution_count": 67,
   "metadata": {
    "collapsed": false,
    "hide_input": true,
    "hide_output": true,
    "run_control": {
     "marked": true
    },
    "scrolled": true
   },
   "outputs": [
    {
     "data": {
      "text/html": [
       "\n",
       "<div class=\"jumbotron\">\n",
       "\n",
       "<center> <h2>  Drawing trees as graph in NetworkX  </h2> </center>\n",
       "<p>\n",
       "<center>\n",
       "<a  class=\"btn btn-lg btn-danger \" href=\"http://dkrib.web.elte.hu/compare/jupyter/Ebola_test_Bio_Phylo_and_networkx.html\" >Let mee see the notebook</a>\n",
       "\n",
       "\n",
       "<a class=\"btn btn-lg btn-default \" \n",
       "onclick=\"IPython.notebook.select(10); IPython.notebook.execute_cell();\"\n",
       "> Download the notebook\n",
       "</a>\n",
       "</center>\n",
       "</p>\n",
       "\n",
       "</div>"
      ],
      "text/plain": [
       "<IPython.core.display.HTML object>"
      ]
     },
     "metadata": {},
     "output_type": "display_data"
    }
   ],
   "source": [
    "%%HTML\n",
    "\n",
    "<div class=\"jumbotron\">\n",
    "\n",
    "<center> <h2>  Drawing trees as graph in NetworkX  </h2> </center>\n",
    "<p>\n",
    "<center>\n",
    "<a  class=\"btn btn-lg btn-danger \" href=\"http://dkrib.web.elte.hu/compare/jupyter/Ebola_test_Bio_Phylo_and_networkx.html\" >Let mee see the notebook</a>\n",
    "\n",
    "\n",
    "<a class=\"btn btn-lg btn-default \" \n",
    "onclick=\"IPython.notebook.select(10); IPython.notebook.execute_cell();\"\n",
    "> Download the notebook\n",
    "</a>\n",
    "</center>\n",
    "</p>\n",
    "\n",
    "</div>"
   ]
  },
  {
   "cell_type": "code",
   "execution_count": null,
   "metadata": {
    "collapsed": false,
    "hide_input": true,
    "hide_output": true,
    "run_control": {
     "marked": true
    },
    "scrolled": true
   },
   "outputs": [],
   "source": [
    "import subprocess\n",
    "try:\n",
    "    subprocess.check_output('/usr.host/bin/wget http://dkrib.web.elte.hu/compare/jupyter/Ebola_test_Bio_Phylo_and_networkx.html',\n",
    "               stderr=subprocess.STDOUT, shell=True)\n",
    "except subprocess.CalledProcessError:\n",
    "    print 'Error Download failed'\n",
    "else:\n",
    "    print 'Notebook Downloaded'"
   ]
  },
  {
   "cell_type": "code",
   "execution_count": 2,
   "metadata": {
    "collapsed": false,
    "hide_input": true,
    "hide_output": true,
    "run_control": {
     "marked": true
    },
    "scrolled": true
   },
   "outputs": [
    {
     "data": {
      "text/html": [
       "\n",
       "<style>\n",
       "    div.prompt {display:none}\n",
       "    div.cell{\n",
       "        width:100%;\n",
       "        margin-left:1%;\n",
       "        margin-right:1%;\n",
       "    }\n",
       "</style>"
      ],
      "text/plain": [
       "<IPython.core.display.HTML object>"
      ]
     },
     "execution_count": 2,
     "metadata": {},
     "output_type": "execute_result"
    }
   ],
   "source": [
    "from IPython.display import HTML\n",
    "HTML('''\n",
    "<style>\n",
    "    div.prompt {display:none}\n",
    "    div.cell{\n",
    "        width:100%;\n",
    "        margin-left:1%;\n",
    "        margin-right:1%;\n",
    "    }\n",
    "</style>''')"
   ]
  },
  {
   "cell_type": "code",
   "execution_count": null,
   "metadata": {
    "collapsed": true
   },
   "outputs": [],
   "source": []
  }
 ],
 "metadata": {
  "hide_input": true,
  "kernelspec": {
   "display_name": "Python 2",
   "language": "python",
   "name": "python2"
  },
  "language_info": {
   "codemirror_mode": {
    "name": "ipython",
    "version": 2
   },
   "file_extension": ".py",
   "mimetype": "text/x-python",
   "name": "python",
   "nbconvert_exporter": "python",
   "pygments_lexer": "ipython2",
   "version": "2.7.10"
  }
 },
 "nbformat": 4,
 "nbformat_minor": 0
}
