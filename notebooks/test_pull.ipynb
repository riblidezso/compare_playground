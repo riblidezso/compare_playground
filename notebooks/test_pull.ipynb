{
 "cells": [
  {
   "cell_type": "markdown",
   "metadata": {},
   "source": [
    "<img src=\"http://dkrib.web.elte.hu/compare/COMPARE_LOGO.jpg\" \\img>"
   ]
  },
  {
   "cell_type": "markdown",
   "metadata": {},
   "source": [
    "<div class=\"jumbotron\">\n",
    "    <center> <h1>  Here you can find information about the available, ready to use notebooks  </h1> </center>\n",
    "    <center> <p>It's new, so please be patient if something does not work. </p>  </center>\n",
    "</div>"
   ]
  },
  {
   "cell_type": "markdown",
   "metadata": {},
   "source": [
    "---\n",
    "<center> <h2>  Tree building and visualizing using BioPython-phylo package  </h2> </center>\n",
    "\n",
    "\n",
    "<a type=\"button\" class=\"btn btn-lg btn-info center-block \" href=\"http://dkrib.web.elte.hu/compare/jupyter/ebola-bio-phylo-tree-building.html\" >\n",
    "Let mee see the notebook\n",
    "</a>"
   ]
  },
  {
   "cell_type": "code",
   "execution_count": 2,
   "metadata": {
    "collapsed": false
   },
   "outputs": [],
   "source": [
    "from IPython.html import widgets\n",
    "from IPython.display import display\n",
    "import subprocess\n",
    "import os\n",
    "\n",
    "def download_notebook_1(button):\n",
    "    try:\n",
    "        subprocess.check_output('/usr.host/bin/wget http://dkrib.web.elte.hu/compare/jupyter/ebola-bio-phylo-tree-building.html',\n",
    "                   stderr=subprocess.STDOUT, shell=True)\n",
    "    except subprocess.CalledProcessError:\n",
    "        print 'Error Download failed'\n",
    "    else:\n",
    "        print 'Notebook Downloaded'\n",
    "        \n",
    "def download_notebook_2(button):\n",
    "    try:\n",
    "        subprocess.check_output('/usr.host/bin/wget http://dkrib.web.elte.hu/compare/jupyter/Ebola_test_ETE2_tree_plots.html',\n",
    "                   stderr=subprocess.STDOUT, shell=True)\n",
    "    except subprocess.CalledProcessError:\n",
    "        print 'Error Download failed'\n",
    "    else:\n",
    "        print 'Notebook Downloaded'\n",
    "def download_notebook_3(button):\n",
    "    try:\n",
    "        subprocess.check_output('/usr.host/bin/wget http://dkrib.web.elte.hu/compare/jupyter/maptree_v_0.4.html',\n",
    "                   stderr=subprocess.STDOUT, shell=True)\n",
    "    except subprocess.CalledProcessError:\n",
    "        print 'Error Download failed'\n",
    "    else:\n",
    "        print 'Notebook Downloaded'\n",
    "def download_notebook_4(button):\n",
    "    try:\n",
    "        subprocess.check_output('/usr.host/bin/wget http://dkrib.web.elte.hu/compare/jupyter/Ebola_test_Bio_Phylo_and_networkx.html',\n",
    "                   stderr=subprocess.STDOUT, shell=True)\n",
    "    except subprocess.CalledProcessError:\n",
    "        print 'Error Download failed'\n",
    "    else:\n",
    "        print 'Notebook Downloaded'\n",
    "    \n",
    "\n",
    "button1 = widgets.Button(description=\"Get this notebook\")\n",
    "button1.on_click(download_notebook_1)\n",
    "\n",
    "display(button1)"
   ]
  },
  {
   "cell_type": "markdown",
   "metadata": {
    "collapsed": true
   },
   "source": [
    "---\n",
    "<center> <h2>  Tree visualizing with ETE2 python package  </h2> </center>\n",
    "\n",
    "\n",
    "<a type=\"button\" class=\"btn btn-lg btn-success center-block\" href=\"http://dkrib.web.elte.hu/compare/jupyter/Ebola_test_ETE2_tree_plots.html\" >Let mee see the notebook</a>\n"
   ]
  },
  {
   "cell_type": "code",
   "execution_count": 3,
   "metadata": {
    "collapsed": false
   },
   "outputs": [],
   "source": [
    "button2 = widgets.Button(description=\"Get this notebook\")\n",
    "button2.on_click(download_notebook_2)\n",
    "display(button2)"
   ]
  },
  {
   "cell_type": "markdown",
   "metadata": {},
   "source": [
    "---\n",
    "<center> <h2>  Map drawing with matplotlib, and NetworkX and animation  </h2> </center>\n",
    "\n",
    "\n",
    "<a type=\"button\" class=\"btn btn-lg btn-warning center-block\" href=\"http://dkrib.web.elte.hu/compare/jupyter/maptree_v_0.4.html\" >Let mee see the notebook</a>"
   ]
  },
  {
   "cell_type": "code",
   "execution_count": 4,
   "metadata": {
    "collapsed": false
   },
   "outputs": [],
   "source": [
    "button3 = widgets.Button(description=\"Get this notebook\")\n",
    "button3.on_click(download_notebook_3)\n",
    "display(button3)"
   ]
  },
  {
   "cell_type": "markdown",
   "metadata": {},
   "source": [
    "---\n",
    "<center> <h2>  Drawing trees as graph in NetworkX  </h2> </center>\n",
    "\n",
    "\n",
    "<a type=\"button\" class=\"btn btn-lg btn-danger center-block\" href=\"http://dkrib.web.elte.hu/compare/jupyter/Ebola_test_Bio_Phylo_and_networkx.html\" >Let mee see the notebook</a>"
   ]
  },
  {
   "cell_type": "code",
   "execution_count": 5,
   "metadata": {
    "collapsed": false
   },
   "outputs": [],
   "source": [
    "button4 = widgets.Button(description=\"Get this notebook\")\n",
    "button4.on_click(download_notebook_4)\n",
    "display(button4)"
   ]
  },
  {
   "cell_type": "code",
   "execution_count": 4,
   "metadata": {
    "collapsed": false,
    "scrolled": true
   },
   "outputs": [
    {
     "data": {
      "text/html": [
       "<script>\n",
       "code_show=true; \n",
       "function code_toggle() {\n",
       " if (code_show){\n",
       " $('div.input').hide();\n",
       " } else {\n",
       " $('div.input').show();\n",
       " }\n",
       " code_show = !code_show\n",
       "} \n",
       "$( document ).ready(code_toggle);\n",
       "</script>\n",
       "<form action=\"javascript:code_toggle()\"><input type=\"submit\" value=\"Click here to toggle on/off the raw code.\"></form>"
      ],
      "text/plain": [
       "<IPython.core.display.HTML object>"
      ]
     },
     "execution_count": 4,
     "metadata": {},
     "output_type": "execute_result"
    }
   ],
   "source": [
    "from IPython.display  import HTML\n",
    "\n",
    "\n",
    "#Toggle code\n",
    "HTML('''<script>\n",
    "code_show=true; \n",
    "function code_toggle() {\n",
    " if (code_show){\n",
    " $('div.input').hide();\n",
    " } else {\n",
    " $('div.input').show();\n",
    " }\n",
    " code_show = !code_show\n",
    "} \n",
    "$( document ).ready(code_toggle);\n",
    "</script>\n",
    "<form action=\"javascript:code_toggle()\"><input type=\"submit\" value=\"Click here to toggle on/off the raw code.\"></form>''')\n",
    "\n"
   ]
  },
  {
   "cell_type": "code",
   "execution_count": 5,
   "metadata": {
    "collapsed": false
   },
   "outputs": [
    {
     "data": {
      "text/html": [
       "\n",
       "<style>\n",
       "    div.prompt {display:none}\n",
       "    div.cell{\n",
       "        width:100%;\n",
       "        margin-left:1%;\n",
       "        margin-right:auto;\n",
       "    }\n",
       "</style>"
      ],
      "text/plain": [
       "<IPython.core.display.HTML object>"
      ]
     },
     "execution_count": 5,
     "metadata": {},
     "output_type": "execute_result"
    }
   ],
   "source": [
    "#Delete prompts\n",
    "HTML('''\n",
    "<style>\n",
    "    div.prompt {display:none}\n",
    "    div.cell{\n",
    "        width:100%;\n",
    "        margin-left:1%;\n",
    "        margin-right:auto;\n",
    "    }\n",
    "</style>''')"
   ]
  },
  {
   "cell_type": "code",
   "execution_count": null,
   "metadata": {
    "collapsed": true
   },
   "outputs": [],
   "source": []
  }
 ],
 "metadata": {
  "kernelspec": {
   "display_name": "Python 2",
   "language": "python",
   "name": "python2"
  },
  "language_info": {
   "codemirror_mode": {
    "name": "ipython",
    "version": 2
   },
   "file_extension": ".py",
   "mimetype": "text/x-python",
   "name": "python",
   "nbconvert_exporter": "python",
   "pygments_lexer": "ipython2",
   "version": "2.7.6"
  }
 },
 "nbformat": 4,
 "nbformat_minor": 0
}
