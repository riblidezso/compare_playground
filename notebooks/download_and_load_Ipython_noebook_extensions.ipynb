{
 "cells": [
  {
   "cell_type": "markdown",
   "metadata": {},
   "source": [
    "#Download Ipython Notebook extensions\n",
    "- And load the execute time extension"
   ]
  },
  {
   "cell_type": "code",
   "execution_count": 1,
   "metadata": {
    "collapsed": false
   },
   "outputs": [
    {
     "name": "stdout",
     "output_type": "stream",
     "text": [
      "Branch 3.x set up to track remote branch 3.x from origin.\n"
     ]
    },
    {
     "name": "stderr",
     "output_type": "stream",
     "text": [
      "Cloning into 'IPython-notebook-extensions'...\n",
      "Switched to a new branch '3.x'\n"
     ]
    }
   ],
   "source": [
    "%%bash\n",
    "cd ../tools\n",
    "\n",
    "#Clone repo\n",
    "git clone https://github.com/ipython-contrib/IPython-notebook-extensions.git\n",
    "cd IPython-notebook-extensions\n",
    "\n",
    "#Change to ipython 3.x branch\n",
    "git checkout 3.x\n",
    "\n",
    "#copy files to nbextensions\n",
    "cp usability/execute_time/ExecuteTime.js \\\n",
    "usability/execute_time/ExecuteTime.css \\\n",
    "/home/ribli/.ipython/nbextensions/"
   ]
  },
  {
   "cell_type": "markdown",
   "metadata": {
    "collapsed": true
   },
   "source": [
    "##Now we have  to close it and restart it then load the extension\n",
    "- I wasnt able to load it without restarting the notebook, (but it doesnt really matter)"
   ]
  },
  {
   "cell_type": "code",
   "execution_count": 2,
   "metadata": {
    "collapsed": false
   },
   "outputs": [
    {
     "data": {
      "application/javascript": [
       "IPython.load_extensions('ExecuteTime');"
      ],
      "text/plain": [
       "<IPython.core.display.Javascript object>"
      ]
     },
     "metadata": {},
     "output_type": "display_data"
    }
   ],
   "source": [
    "%%javascript\n",
    "IPython.load_extensions('ExecuteTime');"
   ]
  },
  {
   "cell_type": "markdown",
   "metadata": {},
   "source": [
    "##AAAAAnd it works"
   ]
  },
  {
   "cell_type": "code",
   "execution_count": 3,
   "metadata": {
    "collapsed": false
   },
   "outputs": [
    {
     "name": "stdout",
     "output_type": "stream",
     "text": [
      "valami\n"
     ]
    }
   ],
   "source": [
    "print 'valami'"
   ]
  }
 ],
 "metadata": {
  "kernelspec": {
   "display_name": "Python 2",
   "language": "python",
   "name": "python2"
  },
  "language_info": {
   "codemirror_mode": {
    "name": "ipython",
    "version": 2
   },
   "file_extension": ".py",
   "mimetype": "text/x-python",
   "name": "python",
   "nbconvert_exporter": "python",
   "pygments_lexer": "ipython2",
   "version": "2.7.6"
  }
 },
 "nbformat": 4,
 "nbformat_minor": 0
}
