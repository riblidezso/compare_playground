{
 "cells": [
  {
   "cell_type": "markdown",
   "metadata": {},
   "source": [
    "<img src=\"http://dkrib.web.elte.hu/compare/COMPARE_LOGO.jpg\" width=400 img>"
   ]
  },
  {
   "cell_type": "markdown",
   "metadata": {},
   "source": [
    "<div class=\"jumbotron\">\n",
    "\n",
    "<center> <h2> Demo notebook  </h2> </center>\n",
    "\n",
    "<center> <h1> Query all the geographic location from EBI Influenza A samples and draw them on a map  </h1> </center>\n",
    "\n",
    "</div>\n",
    "\n",
    "---\n",
    "#About the Jupyter-notebook\n",
    "\n",
    "\n",
    "####The programming languages\n",
    "- This notebook is written in python, but you can use the exact same jupyter framework in many different languages (R,Ruby,Julia,Haskell etc..). Please explore the jupyter project webpage for more information about support for programming languages\n",
    "\n",
    "<center>\n",
    "<a type=\"button\" class=\"btn btn-lg btn-warning \" href=\"https://jupyter.org/\" >Link to Jupyter project</a>\n",
    "</center>\n",
    "\n",
    "\n",
    "\n",
    "####This is a markdown cell\n",
    "- You can write easy markdown headers and notes like this\n",
    "- Or you can write html ike the jumbotron above. In the notebook, you can use the Bootstrap framework to have nice buttons etc. like the one below.\n",
    "\n",
    "<center>\n",
    "<a type=\"button\" class=\"btn btn-lg btn-success \" href=\"http://getbootstrap.com/\" >Link to Bootstrap</a>\n",
    "</center>\n",
    "\n",
    "- You can also write equations, which will be rendered by [MathJax](http://www.mathjax.org/)\n",
    "\n",
    "$$E = mc^2$$"
   ]
  },
  {
   "cell_type": "markdown",
   "metadata": {},
   "source": [
    "---\n",
    "#The purpose of this small demo is to explore Influenza A geolocations in the [ENA](http://www.ebi.ac.uk/ena)"
   ]
  },
  {
   "cell_type": "markdown",
   "metadata": {},
   "source": [
    "###First we should figure, how many flu samples are there?\n",
    "\n",
    "- ENA has an advanced search option where we can discover data with some filtering. It has a graphical interface but, it also support programatic acces through url based queries.\n",
    "- [Advanced search graphical interface](http://www.ebi.ac.uk/ena/data/warehouse/search)\n",
    "- [Advanced search tutorial ](http://www.ebi.ac.uk/ena/support/advanced-search-tutorial)\n",
    "\n",
    "I will build the url from the logical blocks:\n",
    "- the thing below is called a code cell, If you push Shift+Enter, or click the triangle at the menubar, the code will be executed"
   ]
  },
  {
   "cell_type": "code",
   "execution_count": 1,
   "metadata": {
    "collapsed": false
   },
   "outputs": [
    {
     "name": "stdout",
     "output_type": "stream",
     "text": [
      "The url is: http://www.ebi.ac.uk/ena/data/warehouse/search?\"tax_tree(11320)\"&result=sample&resultcount\n"
     ]
    }
   ],
   "source": [
    "url_base='http://www.ebi.ac.uk/ena/data/warehouse/search?' #base for advanced search\n",
    "url_query='\\\"tax_tree(11320)\\\"' #influenza A taxon and all subordinates (tree)\n",
    "url_result='&result=sample' # looking for samples, they have location\n",
    "url_count='&resultcount' # count the results\n",
    "\n",
    "url=url_base+url_query+url_result+url_count #concatenate\n",
    "\n",
    "print 'The url is:',url #print"
   ]
  },
  {
   "cell_type": "markdown",
   "metadata": {},
   "source": [
    "Query the url, read the result back as a string\n",
    "- Actually you can also click on it, and you will be presented with the results int the browser"
   ]
  },
  {
   "cell_type": "code",
   "execution_count": 2,
   "metadata": {
    "collapsed": false
   },
   "outputs": [
    {
     "name": "stdout",
     "output_type": "stream",
     "text": [
      "Number of results: 1,097,437\n",
      "Time taken: 0 seconds\n"
     ]
    }
   ],
   "source": [
    "import urllib #python modules for url-s\n",
    "print urllib.urlopen(url).read()"
   ]
  },
  {
   "cell_type": "markdown",
   "metadata": {},
   "source": [
    "###Now i will download all the geolocation information associated with the samples\n",
    "\n",
    "Build url again"
   ]
  },
  {
   "cell_type": "code",
   "execution_count": 3,
   "metadata": {
    "collapsed": true
   },
   "outputs": [],
   "source": [
    "url_base='http://www.ebi.ac.uk/ena/data/warehouse/search?'\n",
    "url_query='\\\"tax_tree(11320)\\\"'\n",
    "url_result='&result=sample'\n",
    "url_display='&display=report' #report is the tab separated output\n",
    "url_fields='&fields=accession,location' #get accesion and location\n",
    "url_limits='&offset=1&length=1095067' #get all the results\n",
    "\n",
    "url=url_base+url_query+url_result+url_display+url_fields+url_limits"
   ]
  },
  {
   "cell_type": "markdown",
   "metadata": {},
   "source": [
    "The result is a tab separated table\n",
    "- I will Download the table to a string"
   ]
  },
  {
   "cell_type": "code",
   "execution_count": 4,
   "metadata": {
    "collapsed": false
   },
   "outputs": [],
   "source": [
    "ena_flu_loco_page = urllib.urlopen(url).read()"
   ]
  },
  {
   "cell_type": "markdown",
   "metadata": {},
   "source": [
    "Load the table into a pandas DataFrame\n",
    "- [Pandas](http://pandas.pydata.org/) is a very useful library for data analysis in python\n",
    "- The DataFrame object is similar to R dataframes"
   ]
  },
  {
   "cell_type": "code",
   "execution_count": 5,
   "metadata": {
    "collapsed": false
   },
   "outputs": [],
   "source": [
    "import pandas as pd #pandas\n",
    "from StringIO import StringIO #for reading string into pandas\n",
    "ena_flu_loco_table = pd.read_csv(StringIO(ena_flu_loco_page),sep='\\t')"
   ]
  },
  {
   "cell_type": "markdown",
   "metadata": {},
   "source": [
    "Peek into the table\n",
    "- Unfortunately most of the values are missing (NaNs)"
   ]
  },
  {
   "cell_type": "code",
   "execution_count": 6,
   "metadata": {
    "collapsed": false
   },
   "outputs": [
    {
     "data": {
      "text/html": [
       "<div>\n",
       "<table border=\"1\" class=\"dataframe\">\n",
       "  <thead>\n",
       "    <tr style=\"text-align: right;\">\n",
       "      <th></th>\n",
       "      <th>accession</th>\n",
       "      <th>location</th>\n",
       "    </tr>\n",
       "  </thead>\n",
       "  <tbody>\n",
       "    <tr>\n",
       "      <th>0</th>\n",
       "      <td>33124</td>\n",
       "      <td>NaN</td>\n",
       "    </tr>\n",
       "    <tr>\n",
       "      <th>1</th>\n",
       "      <td>9544</td>\n",
       "      <td>NaN</td>\n",
       "    </tr>\n",
       "    <tr>\n",
       "      <th>2</th>\n",
       "      <td>9545</td>\n",
       "      <td>NaN</td>\n",
       "    </tr>\n",
       "    <tr>\n",
       "      <th>3</th>\n",
       "      <td>SAMD00000344</td>\n",
       "      <td>NaN</td>\n",
       "    </tr>\n",
       "    <tr>\n",
       "      <th>4</th>\n",
       "      <td>SAMD00000345</td>\n",
       "      <td>NaN</td>\n",
       "    </tr>\n",
       "  </tbody>\n",
       "</table>\n",
       "</div>"
      ],
      "text/plain": [
       "      accession location\n",
       "0         33124      NaN\n",
       "1          9544      NaN\n",
       "2          9545      NaN\n",
       "3  SAMD00000344      NaN\n",
       "4  SAMD00000345      NaN"
      ]
     },
     "execution_count": 6,
     "metadata": {},
     "output_type": "execute_result"
    }
   ],
   "source": [
    "ena_flu_loco_table.head()"
   ]
  },
  {
   "cell_type": "markdown",
   "metadata": {},
   "source": [
    "###See how many  geolocation data is there?"
   ]
  },
  {
   "cell_type": "code",
   "execution_count": 7,
   "metadata": {
    "collapsed": false
   },
   "outputs": [
    {
     "name": "stdout",
     "output_type": "stream",
     "text": [
      "The number of sample with geolocations is:  125524\n"
     ]
    }
   ],
   "source": [
    "print \"The number of sample with geolocations is: \",\n",
    "print len(ena_flu_loco_table[ pd.isnull(ena_flu_loco_table['location']) == False ])"
   ]
  },
  {
   "cell_type": "markdown",
   "metadata": {},
   "source": [
    "Get rid of samples with no geolocation"
   ]
  },
  {
   "cell_type": "code",
   "execution_count": 8,
   "metadata": {
    "collapsed": true
   },
   "outputs": [],
   "source": [
    "ena_flu_loco_table=ena_flu_loco_table[ pd.isnull(ena_flu_loco_table['location']) == False ]"
   ]
  },
  {
   "cell_type": "markdown",
   "metadata": {},
   "source": [
    "###Some location are malformed"
   ]
  },
  {
   "cell_type": "code",
   "execution_count": 9,
   "metadata": {
    "collapsed": false
   },
   "outputs": [
    {
     "data": {
      "text/html": [
       "<div>\n",
       "<table border=\"1\" class=\"dataframe\">\n",
       "  <thead>\n",
       "    <tr style=\"text-align: right;\">\n",
       "      <th></th>\n",
       "      <th>accession</th>\n",
       "      <th>location</th>\n",
       "    </tr>\n",
       "  </thead>\n",
       "  <tbody>\n",
       "    <tr>\n",
       "      <th>196957</th>\n",
       "      <td>SAMEA2384944</td>\n",
       "      <td>18.49041 E</td>\n",
       "    </tr>\n",
       "    <tr>\n",
       "      <th>196981</th>\n",
       "      <td>SAMEA2384968</td>\n",
       "      <td>18.49041 E</td>\n",
       "    </tr>\n",
       "    <tr>\n",
       "      <th>202131</th>\n",
       "      <td>SAMEA2392363</td>\n",
       "      <td>23.1 E</td>\n",
       "    </tr>\n",
       "    <tr>\n",
       "      <th>234589</th>\n",
       "      <td>SAMEA2547925</td>\n",
       "      <td>28.23 E</td>\n",
       "    </tr>\n",
       "    <tr>\n",
       "      <th>234590</th>\n",
       "      <td>SAMEA2547926</td>\n",
       "      <td>28.23 E</td>\n",
       "    </tr>\n",
       "  </tbody>\n",
       "</table>\n",
       "</div>"
      ],
      "text/plain": [
       "           accession    location\n",
       "196957  SAMEA2384944  18.49041 E\n",
       "196981  SAMEA2384968  18.49041 E\n",
       "202131  SAMEA2392363      23.1 E\n",
       "234589  SAMEA2547925     28.23 E\n",
       "234590  SAMEA2547926     28.23 E"
      ]
     },
     "execution_count": 9,
     "metadata": {},
     "output_type": "execute_result"
    }
   ],
   "source": [
    "err= ena_flu_loco_table[ [ len(x.split(' '))!=4 for x in ena_flu_loco_table['location'] ]]\n",
    "err.head()"
   ]
  },
  {
   "cell_type": "markdown",
   "metadata": {},
   "source": [
    "Delete these"
   ]
  },
  {
   "cell_type": "code",
   "execution_count": 10,
   "metadata": {
    "collapsed": false
   },
   "outputs": [],
   "source": [
    "ena_flu_loco_table = ena_flu_loco_table[ [ \n",
    "        len(x.split(' '))==4 for x in ena_flu_loco_table['location'] ]]"
   ]
  },
  {
   "cell_type": "markdown",
   "metadata": {},
   "source": [
    "###Parse the longitudes, longitudes\n",
    "- The data is in a different format than the map will need read, so I need to convert is. (N,E,S,W) instead of negative values"
   ]
  },
  {
   "cell_type": "code",
   "execution_count": 11,
   "metadata": {
    "collapsed": false
   },
   "outputs": [],
   "source": [
    "def parse_lat(string_loc):\n",
    "    loc_list=string_loc.split(' ')\n",
    "    if (loc_list[1] =='N'):\n",
    "        return float(loc_list[0])\n",
    "    elif (loc_list[1] =='S'):\n",
    "        return -float(loc_list[0])\n",
    "    \n",
    "def parse_lon(string_loc):\n",
    "    loc_list=string_loc.split(' ')\n",
    "    if (loc_list[3] =='E'):\n",
    "        return float(loc_list[2])\n",
    "    elif (loc_list[3] =='W'):\n",
    "        return -float(loc_list[2])\n",
    "    \n",
    "ena_flu_loco_table['lat']=map(parse_lat,ena_flu_loco_table['location'])\n",
    "ena_flu_loco_table['lon']=map(parse_lon,ena_flu_loco_table['location'])\n",
    "\n",
    "ena_flu_loco_table=ena_flu_loco_table[['lat','lon','accession']]"
   ]
  },
  {
   "cell_type": "code",
   "execution_count": 12,
   "metadata": {
    "collapsed": false
   },
   "outputs": [
    {
     "data": {
      "text/html": [
       "<div>\n",
       "<table border=\"1\" class=\"dataframe\">\n",
       "  <thead>\n",
       "    <tr style=\"text-align: right;\">\n",
       "      <th></th>\n",
       "      <th>lat</th>\n",
       "      <th>lon</th>\n",
       "      <th>accession</th>\n",
       "    </tr>\n",
       "  </thead>\n",
       "  <tbody>\n",
       "    <tr>\n",
       "      <th>2856</th>\n",
       "      <td>44.337</td>\n",
       "      <td>143.38083</td>\n",
       "      <td>SAMD00003553</td>\n",
       "    </tr>\n",
       "    <tr>\n",
       "      <th>2857</th>\n",
       "      <td>44.337</td>\n",
       "      <td>143.38083</td>\n",
       "      <td>SAMD00003554</td>\n",
       "    </tr>\n",
       "    <tr>\n",
       "      <th>2858</th>\n",
       "      <td>44.337</td>\n",
       "      <td>143.38083</td>\n",
       "      <td>SAMD00003555</td>\n",
       "    </tr>\n",
       "    <tr>\n",
       "      <th>2859</th>\n",
       "      <td>44.337</td>\n",
       "      <td>143.38083</td>\n",
       "      <td>SAMD00003556</td>\n",
       "    </tr>\n",
       "    <tr>\n",
       "      <th>2860</th>\n",
       "      <td>44.337</td>\n",
       "      <td>143.38083</td>\n",
       "      <td>SAMD00003557</td>\n",
       "    </tr>\n",
       "  </tbody>\n",
       "</table>\n",
       "</div>"
      ],
      "text/plain": [
       "         lat        lon     accession\n",
       "2856  44.337  143.38083  SAMD00003553\n",
       "2857  44.337  143.38083  SAMD00003554\n",
       "2858  44.337  143.38083  SAMD00003555\n",
       "2859  44.337  143.38083  SAMD00003556\n",
       "2860  44.337  143.38083  SAMD00003557"
      ]
     },
     "execution_count": 12,
     "metadata": {},
     "output_type": "execute_result"
    }
   ],
   "source": [
    "ena_flu_loco_table.head()"
   ]
  },
  {
   "cell_type": "markdown",
   "metadata": {},
   "source": [
    "###See how many unique locations we have"
   ]
  },
  {
   "cell_type": "code",
   "execution_count": 13,
   "metadata": {
    "collapsed": false
   },
   "outputs": [
    {
     "name": "stdout",
     "output_type": "stream",
     "text": [
      "Number of unique locations: 16146\n"
     ]
    }
   ],
   "source": [
    "print 'Number of unique locations:',\n",
    "print len(ena_flu_loco_table.groupby(['lat','lon']).size().reset_index())"
   ]
  },
  {
   "cell_type": "markdown",
   "metadata": {},
   "source": [
    "###Generate a popup string for each unique location\n",
    "- This will be shown on the map, when you click on the point with the mouse\n",
    "\n",
    "Contents:\n",
    "- Number of cases\n",
    "- list of accession numbers, truncated if too long\n",
    "\n",
    "I am using the sql-like groupby statement for group the samples"
   ]
  },
  {
   "cell_type": "code",
   "execution_count": 14,
   "metadata": {
    "collapsed": false
   },
   "outputs": [],
   "source": [
    "#the function used for grouping\n",
    "def form_acc(x):\n",
    "    if (x['accession'].size < 5):\n",
    "        return pd.Series(\n",
    "            dict({'count' : x['accession'].size, 'acc_list' : ' '.join(x['accession']),\n",
    "                }))\n",
    "    else:\n",
    "        return pd.Series(\n",
    "            dict({'count' : x['accession'].size, 'acc_list' : ' '.join(list(\n",
    "                        x['accession'])[:2]) + ' ... ' + ' '.join(list(\n",
    "                        x['accession'])[-2:])}))\n",
    "\n",
    "#group-by\n",
    "uniq_locs_w_acc=ena_flu_loco_table.groupby(['lat','lon']).apply(form_acc).reset_index()"
   ]
  },
  {
   "cell_type": "markdown",
   "metadata": {},
   "source": [
    "<div class=\"jumbotron\">\n",
    "\n",
    "<center> <h1> NOTE: UNITL NOW, THE NOTEBOOK IS EXACTLY THE SAME AS THE POINT DRAWING NOTEBOOK  </h1> </center>\n",
    "\n",
    "</div>"
   ]
  },
  {
   "cell_type": "markdown",
   "metadata": {},
   "source": [
    "---\n",
    "#Create map overlay\n",
    "\n",
    "Download the geojson for US-states\n",
    "- This data is from the github of the author of Folium : https://github.com/wrobstory"
   ]
  },
  {
   "cell_type": "code",
   "execution_count": 15,
   "metadata": {
    "collapsed": true
   },
   "outputs": [],
   "source": [
    "#Download Us states geojson\n",
    "import urllib\n",
    "page=urllib.urlopen('https://gist.github.com/wrobstory/5609856/raw/3d6a5d15fc23d286f6d4404ce9b705a91fd04676/us-states.json').read()\n",
    "f=open('us-states.json','w')\n",
    "f.write(page)\n",
    "f.close()"
   ]
  },
  {
   "cell_type": "markdown",
   "metadata": {},
   "source": [
    "Read the state polygons from the GeoJson file"
   ]
  },
  {
   "cell_type": "code",
   "execution_count": 16,
   "metadata": {
    "collapsed": false
   },
   "outputs": [],
   "source": [
    "import json\n",
    "import shapely.geometry\n",
    "\n",
    "#read the json\n",
    "f=file('us-states.json', 'r')\n",
    "js = json.loads(f.read())\n",
    "f.close()\n",
    "\n",
    "#get states\n",
    "dict_list=[]\n",
    "for f in js['features']:\n",
    "    dict_list.append(dict({'state_id': f['id'],\n",
    "                           'shape': shapely.geometry.shape(f['geometry']) }))"
   ]
  },
  {
   "cell_type": "markdown",
   "metadata": {
    "collapsed": true
   },
   "source": [
    "Assign each point to a state polygon\n",
    "- This is very naive \n",
    "- <span class=\"label label-warning\">Note</span>  This is very slow, It would be unacceptably slow with and order of magnite more polygons (all countries, us counties, etc)"
   ]
  },
  {
   "cell_type": "code",
   "execution_count": 17,
   "metadata": {
    "collapsed": false
   },
   "outputs": [],
   "source": [
    "#dataframe the states\n",
    "states_df=pd.DataFrame(dict_list)\n",
    "\n",
    "#find the polygon for each point naively\n",
    "states_df['no_cases']=0\n",
    "for i in xrange(len(uniq_locs_w_acc)):\n",
    "    \n",
    "    temp_loc=(uniq_locs_w_acc.iloc[i]['lon'],uniq_locs_w_acc.iloc[i]['lat'] )\n",
    "    temp_point=shapely.geometry.Point(temp_loc)\n",
    "    \n",
    "    for j in xrange(len(states_df)):\n",
    "        try:\n",
    "            shapely.geometry.Polygon(states_df.loc[j,'shape']) #throws excetion if not polygon     \n",
    "            if (states_df.loc[j,'shape'].contains(temp_point)):\n",
    "                states_df.loc[j,'no_cases']+=uniq_locs_w_acc.iloc[i]['count'] \n",
    "                break\n",
    "        except:\n",
    "            pass"
   ]
  },
  {
   "cell_type": "markdown",
   "metadata": {},
   "source": [
    "Write the layer data in json for Folium\n",
    "- this will be read by the javascript map drawing script"
   ]
  },
  {
   "cell_type": "code",
   "execution_count": 23,
   "metadata": {
    "collapsed": true
   },
   "outputs": [],
   "source": [
    "#dump it in json\n",
    "dump_df=states_df[['state_id','no_cases']]\n",
    "dump_f=open('map_data.json','w')\n",
    "dump_f.write(json.dumps([dict(dump_df.to_dict(orient='split')['data'])])) #the good format for Folium\n",
    "dump_f.close()"
   ]
  },
  {
   "cell_type": "markdown",
   "metadata": {},
   "source": [
    "\n",
    "---\n",
    "#Draw the map, with the overlay\n",
    "\n",
    "I will use the [Folium](http://folium.readthedocs.org/en/latest/) library which is python wrapper for the [Leaflet](http://leafletjs.com/) javasript library for map based visualizations\n",
    "\n",
    "\n",
    "First define the inline map drawing function\n",
    "\n",
    "- solution from here : https://ocefpaf.github.io/python4oceanographers/blog/2014/05/05/folium/\n",
    "- Puts the map in an iframe in the output cell"
   ]
  },
  {
   "cell_type": "code",
   "execution_count": 24,
   "metadata": {
    "collapsed": true
   },
   "outputs": [],
   "source": [
    "from IPython.core.display import HTML\n",
    "import folium\n",
    "\n",
    "def inline_map(m, width=1000, height=600):\n",
    "    \"\"\"Takes a folium instance and embed HTML.\"\"\"\n",
    "    m._build_map()\n",
    "    srcdoc = m.HTML.replace('\"', '&quot;')\n",
    "    embed = HTML('<iframe srcdoc=\"{}\" '\n",
    "                 'style=\"width: {}px; height: {}px; '\n",
    "                 'border: none\"></iframe>'.format(srcdoc, width, height))\n",
    "    return embed"
   ]
  },
  {
   "cell_type": "markdown",
   "metadata": {},
   "source": [
    "Initialize the map"
   ]
  },
  {
   "cell_type": "code",
   "execution_count": 28,
   "metadata": {
    "collapsed": true
   },
   "outputs": [],
   "source": [
    "data_map=folium.Map(location=(38,-95),tiles='Mapbox Bright', zoom_start=4)"
   ]
  },
  {
   "cell_type": "markdown",
   "metadata": {},
   "source": [
    "Add GeoJson layer, with data binded\n",
    "- This should work without writing out the data to the 'temp_data.json' data file, but it does not work for me\n",
    "    - see  examples: https://github.com/python-visualization/folium"
   ]
  },
  {
   "cell_type": "code",
   "execution_count": 29,
   "metadata": {
    "collapsed": false
   },
   "outputs": [],
   "source": [
    "data_map.geo_json(geo_path='us-states.json',\n",
    "                  data=states_df,\n",
    "                  data_out='map_data.json',\n",
    "                  columns=['state_id','no_cases'],\n",
    "                  key_on='feature.id',\n",
    "                  fill_color='BuGn',\n",
    "                  fill_opacity=0.7,\n",
    "                  line_opacity=0.2,\n",
    "                  legend_name='Number of Influenza A samples in ENA from each state',\n",
    "                  reset=True)"
   ]
  },
  {
   "cell_type": "markdown",
   "metadata": {},
   "source": [
    "Show the map"
   ]
  },
  {
   "cell_type": "code",
   "execution_count": 30,
   "metadata": {
    "collapsed": false
   },
   "outputs": [
    {
     "data": {
      "text/html": [
       "<iframe srcdoc=\"<!DOCTYPE html>\n",
       "<head>\n",
       "   <meta http-equiv=&quot;content-type&quot; content=&quot;text/html; charset=UTF-8&quot; />\n",
       "   <link rel=&quot;stylesheet&quot; href=&quot;//cdnjs.cloudflare.com/ajax/libs/leaflet/0.7.3/leaflet.css&quot; />\n",
       "   <script src=&quot;//cdnjs.cloudflare.com/ajax/libs/leaflet/0.7.3/leaflet.js&quot;></script>\n",
       "   <script src=&quot;//cdnjs.cloudflare.com/ajax/libs/d3/3.5.5/d3.min.js&quot; charset=&quot;utf-8&quot;></script>\n",
       "   <script src=&quot;//cdnjs.cloudflare.com/ajax/libs/queue-async/1.0.7/queue.min.js&quot;></script>\n",
       "\n",
       "   \n",
       "   \n",
       "   \n",
       "   \n",
       "\n",
       "   <style>\n",
       "\n",
       "      html, body {\n",
       "        width: 100%;\n",
       "        height: 100%;\n",
       "        margin: 0;\n",
       "        padding: 0;\n",
       "      }\n",
       "\n",
       "      .legend {\n",
       "          padding: 0px 0px;\n",
       "          font: 10px sans-serif;\n",
       "          background: white;\n",
       "          background: rgba(255,255,255,0.8);\n",
       "          box-shadow: 0 0 15px rgba(0,0,0,0.2);\n",
       "          border-radius: 5px;\n",
       "      }\n",
       "\n",
       "      .key path {\n",
       "        display: none;\n",
       "      }\n",
       "\n",
       "   </style>\n",
       "</head>\n",
       "\n",
       "<body>\n",
       "\n",
       "   <div id=&quot;map&quot; style=&quot;width: 960px; height: 500px&quot;></div>\n",
       "\n",
       "   <script>\n",
       "\n",
       "      queue()\n",
       "          .defer(d3.json, 'map_data.json')\n",
       "          .defer(d3.json, 'us-states.json')\n",
       "          .await(makeMap)\n",
       "\n",
       "      function makeMap(error, data_1,gjson_1) {\n",
       "\n",
       "          \n",
       "\n",
       "          \n",
       "\n",
       "          function matchKey(datapoint, key_variable){\n",
       "              if (typeof key_variable[0][datapoint] === 'undefined') {\n",
       "                  return null;\n",
       "              }\n",
       "              else {\n",
       "                  return parseFloat(key_variable[0][datapoint]);\n",
       "              };\n",
       "          };\n",
       "\n",
       "          \n",
       "          var color = d3.scale.threshold()\n",
       "              .domain([0, 200.0, 600.0, 2000.0, 3000.0])\n",
       "              .range(['#EDF8FB', '#CCECE6', '#CCECE6', '#66C2A4', '#41AE76', '#238B45']);\n",
       "          \n",
       "\n",
       "          var map = L.map('map').setView([38, -95], 4);\n",
       "\n",
       "          L.tileLayer('http://{s}.tiles.mapbox.com/v3/mapbox.world-bright/{z}/{x}/{y}.png', {\n",
       "              maxZoom: 18,\n",
       "              minZoom: 1,\n",
       "              attribution: 'Map tiles by <a href=&quot;http://www.mapbox.com/m&quot;>Mapbox</a> Data by <a href=&quot;http://openstreetmap.org&quot;>OpenStreetMap</a>, under <a href=&quot;http://creativecommons.org/licenses/by-sa/3.0&quot;>CC BY SA</a>.'\n",
       "          }).addTo(map);\n",
       "\n",
       "          \n",
       "\n",
       "          \n",
       "\n",
       "          \n",
       "\n",
       "          \n",
       "\n",
       "          \n",
       "\n",
       "          \n",
       "          function style_1(feature) {\n",
       "    return {\n",
       "        fillColor: color(matchKey(feature.id, data_1)),\n",
       "        weight: 1,\n",
       "        opacity: 0.2,\n",
       "        color: 'black',\n",
       "        fillOpacity: 0.7\n",
       "    };\n",
       "}\n",
       "          \n",
       "\n",
       "          \n",
       "          gJson_layer_1 = L.geoJson(gjson_1, {style: style_1}).addTo(map)\n",
       "          \n",
       "\n",
       "          \n",
       "              var legend = L.control({position: 'topright'});\n",
       "\n",
       "    legend.onAdd = function (map) {var div = L.DomUtil.create('div', 'legend'); return div};\n",
       "\n",
       "    legend.addTo(map);\n",
       "\n",
       "    var x = d3.scale.linear()\n",
       "    .domain([0, 3300])\n",
       "    .range([0, 400]);\n",
       "\n",
       "    var xAxis = d3.svg.axis()\n",
       "        .scale(x)\n",
       "        .orient(&quot;top&quot;)\n",
       "        .tickSize(1)\n",
       "        .tickValues([0, 200.0, 600.0, 2000.0, 3000.0]);\n",
       "\n",
       "    var svg = d3.select(&quot;.legend.leaflet-control&quot;).append(&quot;svg&quot;)\n",
       "        .attr(&quot;id&quot;, 'legend')\n",
       "        .attr(&quot;width&quot;, 450)\n",
       "        .attr(&quot;height&quot;, 40);\n",
       "\n",
       "    var g = svg.append(&quot;g&quot;)\n",
       "        .attr(&quot;class&quot;, &quot;key&quot;)\n",
       "        .attr(&quot;transform&quot;, &quot;translate(25,16)&quot;);\n",
       "\n",
       "    g.selectAll(&quot;rect&quot;)\n",
       "        .data(color.range().map(function(d, i) {\n",
       "          return {\n",
       "            x0: i ? x(color.domain()[i - 1]) : x.range()[0],\n",
       "            x1: i < color.domain().length ? x(color.domain()[i]) : x.range()[1],\n",
       "            z: d\n",
       "          };\n",
       "        }))\n",
       "      .enter().append(&quot;rect&quot;)\n",
       "        .attr(&quot;height&quot;, 10)\n",
       "        .attr(&quot;x&quot;, function(d) { return d.x0; })\n",
       "        .attr(&quot;width&quot;, function(d) { return d.x1 - d.x0; })\n",
       "        .style(&quot;fill&quot;, function(d) { return d.z; });\n",
       "\n",
       "    g.call(xAxis).append(&quot;text&quot;)\n",
       "        .attr(&quot;class&quot;, &quot;caption&quot;)\n",
       "        .attr(&quot;y&quot;, 21)\n",
       "        .text('Number of Influenza A samples in ENA from each state');\n",
       "          \n",
       "\n",
       "      };\n",
       "\n",
       "   </script>\n",
       "</body>\" style=\"width: 1000px; height: 600px; border: none\"></iframe>"
      ],
      "text/plain": [
       "<IPython.core.display.HTML object>"
      ]
     },
     "execution_count": 30,
     "metadata": {},
     "output_type": "execute_result"
    }
   ],
   "source": [
    "inline_map(data_map)"
   ]
  },
  {
   "cell_type": "markdown",
   "metadata": {},
   "source": [
    "---\n",
    "#Some notes about this notebook:\n",
    "\n",
    "Memory footprint: \n",
    "- python: 220 MiB\n",
    "- chrome: 400 MiB\n",
    "\n",
    "Runtime:\n",
    "- very slow: point -> states takes 30 minites\n",
    "\n",
    "\n",
    "Map:\n",
    "- Pandas binding deos not work flawlessly, i have to wrtie out data in json by hand\n",
    "- More detaileg GeoJson breaks the map (us counties)\n",
    "- Very limited colormap\n",
    "    - max 6 values ?\n",
    "    - always starts from 0?"
   ]
  }
 ],
 "metadata": {
  "kernelspec": {
   "display_name": "Python 2",
   "language": "python",
   "name": "python2"
  },
  "language_info": {
   "codemirror_mode": {
    "name": "ipython",
    "version": 2
   },
   "file_extension": ".py",
   "mimetype": "text/x-python",
   "name": "python",
   "nbconvert_exporter": "python",
   "pygments_lexer": "ipython2",
   "version": "2.7.10"
  }
 },
 "nbformat": 4,
 "nbformat_minor": 0
}
