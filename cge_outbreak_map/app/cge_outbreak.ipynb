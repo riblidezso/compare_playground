{
 "cells": [
  {
   "cell_type": "markdown",
   "metadata": {},
   "source": [
    "<img src=\"http://dkrib.web.elte.hu/compare/COMPARE_LOGO.jpg\" width=400 img>"
   ]
  },
  {
   "cell_type": "markdown",
   "metadata": {},
   "source": [
    "<div class=\"jumbotron\">\n",
    "\n",
    "<center> <h2> Demo notebook  </h2> </center>\n",
    "\n",
    "<center> <h1> Integration of the CGE Outbreak Map in the IPython Notebook enviromentp  </h1> </center>\n",
    "\n",
    "</div>\n",
    "\n",
    "---\n",
    "#About the Jupyter-notebook\n",
    "\n",
    "\n",
    "####The programming languages\n",
    "- This notebook is written in python, but you can use the exact same jupyter framework in many different languages (R,Ruby,Julia,Haskell etc..). Please explore the jupyter project webpage for more information about support for programming languages\n",
    "\n",
    "<center>\n",
    "<a type=\"button\" class=\"btn btn-lg btn-warning \" href=\"https://jupyter.org/\" >Link to Jupyter project</a>\n",
    "</center>\n",
    "\n",
    "\n",
    "\n",
    "####This is a markdown cell\n",
    "- You can write easy markdown headers and notes like this\n",
    "- Or you can write html ike the jumbotron above. In the notebook, you can use the Bootstrap framework to have nice buttons etc. like the one below.\n",
    "\n",
    "<center>\n",
    "<a type=\"button\" class=\"btn btn-lg btn-success \" href=\"http://getbootstrap.com/\" >Link to Bootstrap</a>\n",
    "</center>\n",
    "\n",
    "- You can also write equations, which will be rendered by [MathJax](http://www.mathjax.org/)\n",
    "\n",
    "$$E = mc^2$$"
   ]
  },
  {
   "cell_type": "markdown",
   "metadata": {},
   "source": [
    "---\n",
    "##The purpose of this small demo is to explore integration of pre-existing browser-based visualization tools in the IPython-notebook enviroment\n",
    "\n",
    "### We will use the CGE Outbreak Map for visualization\n",
    "- bitbucket page: https://bitbucket.org/genomicepidemiology/cge-outbreak-map \n",
    "- an example with sample data https://cge.cbs.dtu.dk/tools/client/map/index.html#/\n",
    "- this tool is part of a CGE pipeline, users can visualize the result of their workflow on the map\n",
    "\n",
    "\n",
    "### Purpose of the demonstration:\n",
    "- Show the integration ready-made parts of other pipeline in the Ipython notebook enviroment\n",
    "- Show an easy to use, tweakable, easy to enhance pipeline\n",
    "\n",
    "###We will use flu samples  now\n",
    "- There are very few samples!\n",
    "\n",
    "---"
   ]
  },
  {
   "cell_type": "markdown",
   "metadata": {},
   "source": [
    "####First we should figure, how many flu samples are there?\n",
    "\n",
    "- ENA has an advanced search option where we can discover data with some filtering. It has a graphical interface but, it also support programatic acces through url based queries.\n",
    "- [Advanced search graphical interface](http://www.ebi.ac.uk/ena/data/warehouse/search)\n",
    "- [Advanced search tutorial ](http://www.ebi.ac.uk/ena/support/advanced-search-tutorial)\n",
    "\n",
    "I will build the url from the logical blocks:\n",
    "- the thing below is called a code cell, If you push Shift+Enter, or click the triangle at the menubar, the code will be executed"
   ]
  },
  {
   "cell_type": "code",
   "execution_count": 1,
   "metadata": {
    "collapsed": false
   },
   "outputs": [
    {
     "name": "stdout",
     "output_type": "stream",
     "text": [
      "The url is: http://www.ebi.ac.uk/ena/data/warehouse/search?query=\"tax_tree(11320)\"&result=sample&resultcount\n"
     ]
    }
   ],
   "source": [
    "url_base='http://www.ebi.ac.uk/ena/data/warehouse/search?' #base for advanced search\n",
    "url_query='query=\\\"tax_tree(11320)\\\"' #influenza A taxon and all subordinates (tree)\n",
    "url_result='&result=sample' # looking for samples, they have location\n",
    "url_count='&resultcount' # count the results\n",
    "\n",
    "url=url_base+url_query+url_result+url_count #concatenate\n",
    "\n",
    "print 'The url is:',url #print"
   ]
  },
  {
   "cell_type": "markdown",
   "metadata": {},
   "source": [
    "Query the url, read the result back as a string\n",
    "- Actually you can also click on it, and you will be presented with the results int the browser"
   ]
  },
  {
   "cell_type": "code",
   "execution_count": 2,
   "metadata": {
    "collapsed": false
   },
   "outputs": [
    {
     "name": "stdout",
     "output_type": "stream",
     "text": [
      "Number of results: 2,320\n",
      "Time taken: 0 seconds\n"
     ]
    }
   ],
   "source": [
    "import urllib #python modules for url-s\n",
    "url_res = urllib.urlopen(url).read()\n",
    "print url_res\n",
    "n_samples=int(''.join(url_res.split('\\n')[0].split()[-1].split(',')))"
   ]
  },
  {
   "cell_type": "markdown",
   "metadata": {},
   "source": [
    "###Now i will download the information associated with the samples\n",
    "\n",
    "Build url again"
   ]
  },
  {
   "cell_type": "code",
   "execution_count": 3,
   "metadata": {
    "collapsed": false
   },
   "outputs": [
    {
     "name": "stdout",
     "output_type": "stream",
     "text": [
      "The url is: http://www.ebi.ac.uk/ena/data/warehouse/search?query=\"tax_tree(11320)\"&result=sample&display=report&fields=accession,country,collection_date,host,location&offset=1&length=2320\n"
     ]
    }
   ],
   "source": [
    "url_base='http://www.ebi.ac.uk/ena/data/warehouse/search?'\n",
    "url_query='query=\\\"tax_tree(11320)\\\"'\n",
    "url_result='&result=sample'\n",
    "url_display='&display=report' #report is the tab separated output\n",
    "url_fields='&fields=accession,country,collection_date,host,location' #get accesion and location\n",
    "url_limits='&offset=1&length='+str(n_samples) #get all the results\n",
    "\n",
    "url=url_base+url_query+url_result+url_display+url_fields+url_limits\n",
    "print 'The url is:',url"
   ]
  },
  {
   "cell_type": "markdown",
   "metadata": {},
   "source": [
    "The result is a tab separated table\n",
    "- I will Download the table to a string"
   ]
  },
  {
   "cell_type": "code",
   "execution_count": 27,
   "metadata": {
    "collapsed": false
   },
   "outputs": [],
   "source": [
    "ena_flu_loco_page = urllib.urlopen(url).read()"
   ]
  },
  {
   "cell_type": "markdown",
   "metadata": {},
   "source": [
    "Load the table into a pandas DataFrame\n",
    "- [Pandas](http://pandas.pydata.org/) is a very useful library for data analysis in python\n",
    "- The DataFrame object is similar to R dataframes"
   ]
  },
  {
   "cell_type": "code",
   "execution_count": 48,
   "metadata": {
    "collapsed": false
   },
   "outputs": [
    {
     "name": "stdout",
     "output_type": "stream",
     "text": [
      "\n"
     ]
    }
   ],
   "source": [
    "import pandas as pd #pandas\n",
    "from StringIO import StringIO #for reading string into pandas\n",
    "ena_flu_loco_table = pd.read_csv(StringIO(ena_flu_loco_page),sep='\\t')"
   ]
  },
  {
   "cell_type": "markdown",
   "metadata": {},
   "source": [
    "Peek into the table\n",
    "- Unfortunately most of the values are missing (NaNs)"
   ]
  },
  {
   "cell_type": "code",
   "execution_count": 49,
   "metadata": {
    "collapsed": false
   },
   "outputs": [
    {
     "data": {
      "text/html": [
       "<div>\n",
       "<table border=\"1\" class=\"dataframe\">\n",
       "  <thead>\n",
       "    <tr style=\"text-align: right;\">\n",
       "      <th></th>\n",
       "      <th>accession</th>\n",
       "      <th>country</th>\n",
       "      <th>collection_date</th>\n",
       "      <th>host</th>\n",
       "      <th>location</th>\n",
       "    </tr>\n",
       "  </thead>\n",
       "  <tbody>\n",
       "    <tr>\n",
       "      <th>0</th>\n",
       "      <td>SAMD00018947</td>\n",
       "      <td>NaN</td>\n",
       "      <td>NaN</td>\n",
       "      <td>Homo sapiens</td>\n",
       "      <td>NaN</td>\n",
       "    </tr>\n",
       "    <tr>\n",
       "      <th>1</th>\n",
       "      <td>SAMD00018948</td>\n",
       "      <td>NaN</td>\n",
       "      <td>NaN</td>\n",
       "      <td>Homo sapiens</td>\n",
       "      <td>NaN</td>\n",
       "    </tr>\n",
       "    <tr>\n",
       "      <th>2</th>\n",
       "      <td>SAMEA1573029</td>\n",
       "      <td>NaN</td>\n",
       "      <td>NaN</td>\n",
       "      <td>NaN</td>\n",
       "      <td>NaN</td>\n",
       "    </tr>\n",
       "    <tr>\n",
       "      <th>3</th>\n",
       "      <td>SAMEA1573030</td>\n",
       "      <td>NaN</td>\n",
       "      <td>NaN</td>\n",
       "      <td>NaN</td>\n",
       "      <td>NaN</td>\n",
       "    </tr>\n",
       "    <tr>\n",
       "      <th>4</th>\n",
       "      <td>SAMEA1573031</td>\n",
       "      <td>NaN</td>\n",
       "      <td>NaN</td>\n",
       "      <td>NaN</td>\n",
       "      <td>NaN</td>\n",
       "    </tr>\n",
       "  </tbody>\n",
       "</table>\n",
       "</div>"
      ],
      "text/plain": [
       "      accession country collection_date          host location\n",
       "0  SAMD00018947     NaN             NaN  Homo sapiens      NaN\n",
       "1  SAMD00018948     NaN             NaN  Homo sapiens      NaN\n",
       "2  SAMEA1573029     NaN             NaN           NaN      NaN\n",
       "3  SAMEA1573030     NaN             NaN           NaN      NaN\n",
       "4  SAMEA1573031     NaN             NaN           NaN      NaN"
      ]
     },
     "execution_count": 49,
     "metadata": {},
     "output_type": "execute_result"
    }
   ],
   "source": [
    "ena_flu_loco_table.head()"
   ]
  },
  {
   "cell_type": "markdown",
   "metadata": {},
   "source": [
    "###See how many  geolocation, and time data is there?"
   ]
  },
  {
   "cell_type": "code",
   "execution_count": 51,
   "metadata": {
    "collapsed": false
   },
   "outputs": [
    {
     "name": "stdout",
     "output_type": "stream",
     "text": [
      "The number of sample with geolocations,and date is:  39\n"
     ]
    }
   ],
   "source": [
    "print \"The number of sample with geolocations,and date is: \",\n",
    "print len(ena_flu_loco_table[\n",
    "    (pd.isnull(ena_flu_loco_table['location']) == False) &\n",
    "    (pd.isnull(ena_flu_loco_table['collection_date']) == False) ])"
   ]
  },
  {
   "cell_type": "markdown",
   "metadata": {},
   "source": [
    "Get rid of samples with no geolocation"
   ]
  },
  {
   "cell_type": "code",
   "execution_count": 52,
   "metadata": {
    "collapsed": false
   },
   "outputs": [],
   "source": [
    "ena_flu_loco_table=ena_flu_loco_table[\n",
    "    (pd.isnull(ena_flu_loco_table['location']) == False) &\n",
    "    (pd.isnull(ena_flu_loco_table['collection_date']) == False) ]"
   ]
  },
  {
   "cell_type": "markdown",
   "metadata": {},
   "source": [
    "###Parse the longitudes, longitudes, and date\n",
    "- The data is in a different format than the map will need read, so I need to convert is. (N,E,S,W) instead of negative values\n",
    "- double dates with '/' separation"
   ]
  },
  {
   "cell_type": "code",
   "execution_count": 54,
   "metadata": {
    "collapsed": false
   },
   "outputs": [],
   "source": [
    "def parse_lat(string_loc):\n",
    "    loc_list=string_loc.split(' ')\n",
    "    if (loc_list[1] =='N'):\n",
    "        return float(loc_list[0])\n",
    "    elif (loc_list[1] =='S'):\n",
    "        return -float(loc_list[0])\n",
    "    \n",
    "def parse_lon(string_loc):\n",
    "    loc_list=string_loc.split(' ')\n",
    "    if (loc_list[3] =='E'):\n",
    "        return float(loc_list[2])\n",
    "    elif (loc_list[3] =='W'):\n",
    "        return -float(loc_list[2])\n",
    "    \n",
    "ena_flu_loco_table['lat']=map(parse_lat,ena_flu_loco_table['location'])\n",
    "ena_flu_loco_table['lon']=map(parse_lon,ena_flu_loco_table['location'])\n",
    "ena_flu_loco_table['date']=[x.split('/')[0] for x in ena_flu_loco_table['collection_date']]\n",
    "\n",
    "ena_flu_loco_table=ena_flu_loco_table[['lat','lon','accession','country',\n",
    "                                      'date','host']]"
   ]
  },
  {
   "cell_type": "markdown",
   "metadata": {},
   "source": [
    "Peak into table"
   ]
  },
  {
   "cell_type": "code",
   "execution_count": 55,
   "metadata": {
    "collapsed": false
   },
   "outputs": [
    {
     "data": {
      "text/html": [
       "<div>\n",
       "<table border=\"1\" class=\"dataframe\">\n",
       "  <thead>\n",
       "    <tr style=\"text-align: right;\">\n",
       "      <th></th>\n",
       "      <th>lat</th>\n",
       "      <th>lon</th>\n",
       "      <th>accession</th>\n",
       "      <th>country</th>\n",
       "      <th>date</th>\n",
       "      <th>host</th>\n",
       "    </tr>\n",
       "  </thead>\n",
       "  <tbody>\n",
       "    <tr>\n",
       "      <th>925</th>\n",
       "      <td>-39.4871</td>\n",
       "      <td>176.8210</td>\n",
       "      <td>SAMN01094185</td>\n",
       "      <td>New Zealand</td>\n",
       "      <td>2005-01-01</td>\n",
       "      <td>Mallard</td>\n",
       "    </tr>\n",
       "    <tr>\n",
       "      <th>926</th>\n",
       "      <td>-37.7498</td>\n",
       "      <td>176.4095</td>\n",
       "      <td>SAMN01094186</td>\n",
       "      <td>New Zealand</td>\n",
       "      <td>2004-01-01</td>\n",
       "      <td>Mallard</td>\n",
       "    </tr>\n",
       "    <tr>\n",
       "      <th>927</th>\n",
       "      <td>-39.4871</td>\n",
       "      <td>176.8210</td>\n",
       "      <td>SAMN01094187</td>\n",
       "      <td>New Zealand</td>\n",
       "      <td>2005-01-01</td>\n",
       "      <td>Mallard</td>\n",
       "    </tr>\n",
       "    <tr>\n",
       "      <th>928</th>\n",
       "      <td>-37.7498</td>\n",
       "      <td>176.4095</td>\n",
       "      <td>SAMN01094188</td>\n",
       "      <td>New Zealand</td>\n",
       "      <td>2005-01-01</td>\n",
       "      <td>Mallard</td>\n",
       "    </tr>\n",
       "    <tr>\n",
       "      <th>929</th>\n",
       "      <td>-37.7498</td>\n",
       "      <td>176.4095</td>\n",
       "      <td>SAMN01094189</td>\n",
       "      <td>New Zealand</td>\n",
       "      <td>2005-01-01</td>\n",
       "      <td>Mallard</td>\n",
       "    </tr>\n",
       "  </tbody>\n",
       "</table>\n",
       "</div>"
      ],
      "text/plain": [
       "         lat       lon     accession      country        date     host\n",
       "925 -39.4871  176.8210  SAMN01094185  New Zealand  2005-01-01  Mallard\n",
       "926 -37.7498  176.4095  SAMN01094186  New Zealand  2004-01-01  Mallard\n",
       "927 -39.4871  176.8210  SAMN01094187  New Zealand  2005-01-01  Mallard\n",
       "928 -37.7498  176.4095  SAMN01094188  New Zealand  2005-01-01  Mallard\n",
       "929 -37.7498  176.4095  SAMN01094189  New Zealand  2005-01-01  Mallard"
      ]
     },
     "execution_count": 55,
     "metadata": {},
     "output_type": "execute_result"
    }
   ],
   "source": [
    "ena_flu_loco_table.head()"
   ]
  },
  {
   "cell_type": "markdown",
   "metadata": {},
   "source": [
    "###Change table format to format accepted by CGE Outbreak Map"
   ]
  },
  {
   "cell_type": "code",
   "execution_count": 60,
   "metadata": {
    "collapsed": false
   },
   "outputs": [],
   "source": [
    "import pandas as pd\n",
    "cge_table=pd.DataFrame(columns=['city','google_location','source_note','strain','collection_date',\n",
    "                               'country','region','collected_by','longitude','isolation_source',\n",
    "                                'pathogenic','latitude','location_note','pathogenicity_note',\n",
    "                               'organism','notes','zip_code'])\n",
    "\n",
    "cge_table['latitude']=ena_flu_loco_table['lat']\n",
    "cge_table['longitude']=ena_flu_loco_table['lon']\n",
    "cge_table['country']=ena_flu_loco_table['country']\n",
    "cge_table['collection_date']=ena_flu_loco_table['date']\n",
    "cge_table['isolation_source']=ena_flu_loco_table['host']"
   ]
  },
  {
   "cell_type": "markdown",
   "metadata": {},
   "source": [
    "Write it out in json to a location where the map will read\n",
    "- have to overwrite existing file now!\n",
    "- <span class=\\\"label label-warning\\\">Note</span> If I you write over influenza data or ebola data, you need to write different format for date, or it will fail: Ebola: only year influenza: full date"
   ]
  },
  {
   "cell_type": "code",
   "execution_count": 61,
   "metadata": {
    "collapsed": false
   },
   "outputs": [],
   "source": [
    "cge_table.to_json('json/influenza_data.js',orient='records')"
   ]
  },
  {
   "cell_type": "markdown",
   "metadata": {},
   "source": [
    "###Load the CGE Outbreak Map\n",
    "\n",
    "- The data we created is in the Demo Data /Influenza tab"
   ]
  },
  {
   "cell_type": "code",
   "execution_count": 62,
   "metadata": {
    "collapsed": false
   },
   "outputs": [
    {
     "data": {
      "text/html": [
       "\n",
       "<div class=\"wrap\">\n",
       "    <iframe class=\"frame\" src=\"index.html\"></iframe>\n",
       "</div>\n",
       "\n",
       "<style>\n",
       "wrap {\n",
       "    width: 1px;\n",
       "    height: 1px;\n",
       "    padding: 0;\n",
       "    overflow: hidden;\n",
       "}\n",
       ".frame {\n",
       "    width: 1050px;\n",
       "    height: 780px;\n",
       "    border: 0;\n",
       "    -ms-transform: scale(0.9);\n",
       "    -moz-transform: scale(0.9);\n",
       "    -o-transform: scale(0.9);\n",
       "    -webkit-transform: scale(0.9);\n",
       "    transform: scale(0.9);\n",
       "    \n",
       "    -ms-transform-origin: 0 0;\n",
       "    -moz-transform-origin: 0 0;\n",
       "    -o-transform-origin: 0 0;\n",
       "    -webkit-transform-origin: 0 0;\n",
       "    transform-origin: 0 0;\n",
       "}\n",
       "</style>\n"
      ],
      "text/plain": [
       "<IPython.core.display.HTML object>"
      ]
     },
     "execution_count": 62,
     "metadata": {},
     "output_type": "execute_result"
    }
   ],
   "source": [
    "from IPython.display import HTML\n",
    "HTML('''\n",
    "<div class=\"wrap\">\n",
    "    <iframe class=\"frame\" src=\"index.html\"></iframe>\n",
    "</div>\n",
    "\n",
    "<style>\n",
    "wrap {\n",
    "    width: 1px;\n",
    "    height: 1px;\n",
    "    padding: 0;\n",
    "    overflow: hidden;\n",
    "}\n",
    ".frame {\n",
    "    width: 1050px;\n",
    "    height: 780px;\n",
    "    border: 0;\n",
    "    -ms-transform: scale(0.9);\n",
    "    -moz-transform: scale(0.9);\n",
    "    -o-transform: scale(0.9);\n",
    "    -webkit-transform: scale(0.9);\n",
    "    transform: scale(0.9);\n",
    "    \n",
    "    -ms-transform-origin: 0 0;\n",
    "    -moz-transform-origin: 0 0;\n",
    "    -o-transform-origin: 0 0;\n",
    "    -webkit-transform-origin: 0 0;\n",
    "    transform-origin: 0 0;\n",
    "}\n",
    "</style>\n",
    "''')"
   ]
  },
  {
   "cell_type": "markdown",
   "metadata": {},
   "source": [
    "<div class=\"jumbotron\">\n",
    "\n",
    "\n",
    "<center> <h1> TO DO  </h1> </center>\n",
    "\n",
    "    <ul>\n",
    "        <li> include taxon name search to be used with real taxon names</li>\n",
    "        <li> nicer iframe frame (no scrollbars)</li>\n",
    "        <li> dedicated user json input file </li>\n",
    "        <li> package the map for a show python command </li>\n",
    "        <li> had to change uppercase letters from the bitbucket version </li>\n",
    "        <li> ...</li>\n",
    "        \n",
    "    <ul>\n",
    "\n",
    "\n",
    "\n",
    "</div>"
   ]
  }
 ],
 "metadata": {
  "kernelspec": {
   "display_name": "Python 2",
   "language": "python",
   "name": "python2"
  },
  "language_info": {
   "codemirror_mode": {
    "name": "ipython",
    "version": 2
   },
   "file_extension": ".py",
   "mimetype": "text/x-python",
   "name": "python",
   "nbconvert_exporter": "python",
   "pygments_lexer": "ipython2",
   "version": "2.7.10"
  }
 },
 "nbformat": 4,
 "nbformat_minor": 0
}
