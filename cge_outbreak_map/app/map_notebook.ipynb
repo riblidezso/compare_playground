{
 "cells": [
  {
   "cell_type": "code",
   "execution_count": 39,
   "metadata": {
    "collapsed": true
   },
   "outputs": [],
   "source": []
  },
  {
   "cell_type": "code",
   "execution_count": 66,
   "metadata": {
    "collapsed": false
   },
   "outputs": [
    {
     "data": {
      "text/html": [
       "\n",
       "<div class=\"wrap\">\n",
       "    <iframe class=\"frame\" src=\"index.html\"></iframe>\n",
       "</div>\n",
       "\n",
       "<style>\n",
       "wrap {\n",
       "    width: 1px;\n",
       "    height: 1px;\n",
       "    padding: 0;\n",
       "    overflow: hidden;\n",
       "}\n",
       ".frame {\n",
       "    width: 1050px;\n",
       "    height: 780px;\n",
       "    border: 0;\n",
       "    -ms-transform: scale(0.9);\n",
       "    -moz-transform: scale(0.9);\n",
       "    -o-transform: scale(0.9);\n",
       "    -webkit-transform: scale(0.9);\n",
       "    transform: scale(0.9);\n",
       "    \n",
       "    -ms-transform-origin: 0 0;\n",
       "    -moz-transform-origin: 0 0;\n",
       "    -o-transform-origin: 0 0;\n",
       "    -webkit-transform-origin: 0 0;\n",
       "    transform-origin: 0 0;\n",
       "}\n",
       "</style>\n"
      ],
      "text/plain": [
       "<IPython.core.display.HTML object>"
      ]
     },
     "execution_count": 66,
     "metadata": {},
     "output_type": "execute_result"
    }
   ],
   "source": [
    "HTML('''\n",
    "<div class=\"wrap\">\n",
    "    <iframe class=\"frame\" src=\"index.html\"></iframe>\n",
    "</div>\n",
    "\n",
    "<style>\n",
    "wrap {\n",
    "    width: 1px;\n",
    "    height: 1px;\n",
    "    padding: 0;\n",
    "    overflow: hidden;\n",
    "}\n",
    ".frame {\n",
    "    width: 1050px;\n",
    "    height: 780px;\n",
    "    border: 0;\n",
    "    -ms-transform: scale(0.9);\n",
    "    -moz-transform: scale(0.9);\n",
    "    -o-transform: scale(0.9);\n",
    "    -webkit-transform: scale(0.9);\n",
    "    transform: scale(0.9);\n",
    "    \n",
    "    -ms-transform-origin: 0 0;\n",
    "    -moz-transform-origin: 0 0;\n",
    "    -o-transform-origin: 0 0;\n",
    "    -webkit-transform-origin: 0 0;\n",
    "    transform-origin: 0 0;\n",
    "}\n",
    "</style>\n",
    "''')"
   ]
  },
  {
   "cell_type": "code",
   "execution_count": null,
   "metadata": {
    "collapsed": true
   },
   "outputs": [],
   "source": []
  }
 ],
 "metadata": {
  "kernelspec": {
   "display_name": "Python 2",
   "language": "python",
   "name": "python2"
  },
  "language_info": {
   "codemirror_mode": {
    "name": "ipython",
    "version": 2
   },
   "file_extension": ".py",
   "mimetype": "text/x-python",
   "name": "python",
   "nbconvert_exporter": "python",
   "pygments_lexer": "ipython2",
   "version": "2.7.10"
  }
 },
 "nbformat": 4,
 "nbformat_minor": 0
}
